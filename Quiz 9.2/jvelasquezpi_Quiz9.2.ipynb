{
  "nbformat": 4,
  "nbformat_minor": 0,
  "metadata": {
    "colab": {
      "provenance": [],
      "include_colab_link": true
    },
    "kernelspec": {
      "name": "python3",
      "display_name": "Python 3"
    },
    "language_info": {
      "name": "python"
    }
  },
  "cells": [
    {
      "cell_type": "markdown",
      "metadata": {
        "id": "view-in-github",
        "colab_type": "text"
      },
      "source": [
        "<a href=\"https://colab.research.google.com/github/jvelasquezpi/MetNumUN2024I/blob/main/Quiz%209.2/jvelasquezpi_Quiz9.2.ipynb\" target=\"_parent\"><img src=\"https://colab.research.google.com/assets/colab-badge.svg\" alt=\"Open In Colab\"/></a>"
      ]
    },
    {
      "cell_type": "markdown",
      "source": [
        "### Cramer by hand\n",
        "\n",
        "$$A = \\left[\n",
        "  \\begin{array}{cc}\n",
        "1 & 2\\\\\n",
        "3 & 4\n",
        "\\end{array}\n",
        "\\right],  \n",
        "b= \\left[\n",
        "\\begin{array}{c}\n",
        "5\\\\\n",
        "6\n",
        "\\end{array}\n",
        "\\right]\n",
        "$$\n",
        "$$\n",
        "Ax =B\n",
        "$$\n",
        "$$  \n",
        "\\left[\n",
        "  \\begin{array}{cc}\n",
        "1 & 2\\\\\n",
        "3 & 4\n",
        "\\end{array}\n",
        "\\right]\n",
        "\\left[\n",
        "\\begin{array}{c}\n",
        "x_1\\\\\n",
        "x_2\n",
        "\\end{array}\n",
        "\\right]  \n",
        "=\n",
        "\\left[\n",
        "\\begin{array}{c}\n",
        "5\\\\\n",
        "6\n",
        "\\end{array}\n",
        "\\right]\n",
        "$$\n",
        "\n",
        "$$Det\\ A =  (1 * 4) - (3 * 2)  = 4 - 6 = -2$$\n",
        "\n",
        "$$A_1 = \\left[\n",
        "  \\begin{array}{cc}\n",
        "5 & 2\\\\\n",
        "6 & 4\n",
        "\\end{array}\n",
        "\\right]\n",
        "$$\n",
        "\n",
        "$$Det\\ A_1 = (5 * 4) - (6 * 2) = 20 - 12 =  8$$\n",
        "\n",
        "$$x_1 =  \\frac{Det\\ A_1}{Det\\ A}= \\frac{8}{-2} =  -4$$\n",
        "\n",
        "$$A_2 = \\left[\n",
        "  \\begin{array}{cc}\n",
        "1 & 5\\\\\n",
        "3 & 6\n",
        "\\end{array}\n",
        "\\right]\n",
        "$$\n",
        "\n",
        "$$Det\\ A_2 = (1*6) - (3*5)  = 6 -15 = -9$$\n",
        "\n",
        "$$x_2 = \\frac{Det\\ A_2}{Det\\ A}= \\frac{-9}{-2} =  \\frac{9}{2}$$"
      ],
      "metadata": {
        "id": "SUmNm2PmfHU7"
      }
    },
    {
      "cell_type": "markdown",
      "source": [
        "- ***Adding a single digit to any number requires about 7.30 bits of processing.\n",
        "\n",
        "*   List item\n",
        "*   List item\n",
        "\n",
        "*** - World Mental Calculation: News and Resources for Competitive and Advanced Mental Calculation https://worldmentalcalculation.com/2019/06/30/fastest-possible-processing-speed-of-the-human-brain/\n",
        "\n",
        "- ***The human brain can process 11 million bits of information every second. But our conscious minds can handle only 40 to 50 bits of information a second.*** - Understanding Unconscious Bias https://www.npr.org/2020/07/14/891140598/understanding-unconscious-bias\n",
        "\n",
        "- ***A new way to analyze human reaction times shows that the brain processes data no faster than 60 bits per second.***- New Measure of Human Brain Processing Speed https://www.technologyreview.com/2009/08/25/210267/new-measure-of-human-brain-processing-speed/\n",
        "\n",
        "\n"
      ],
      "metadata": {
        "id": "3rH8z64pk2XV"
      }
    },
    {
      "cell_type": "markdown",
      "source": [
        "# Number of operations to compute a determinant by cofactor expasion\n",
        "- Cofactor expansion https://people.math.carleton.ca/~kcheung/math/notes/MATH1107/07/07_cofactor_expansion.html\n",
        "## Definition of A(i∣j)\n",
        "Let $A$ be an $n\\times n$ matrix. Let $i,j \\in \\{1,…,n\\}$. We define $A(i∣j)$  to be the matrix obtained from $A$ by removing row $i$ and column $j$ from $A$.\n",
        "\n",
        "## Cofactor formula\n",
        "One way of computing the determinant of an $n\\times n$  matrix\n",
        "\n",
        "$$A = \\left[\n",
        "  \\begin{array}{cccc}\n",
        "a_{11} & a_{12} & \\cdots & a_{1n}\\\\\n",
        "a_{21} & a_{22} & \\cdots & a_{2n}\\\\\n",
        "\\vdots  & \\vdots & \\ddots & \\vdots\\\\\n",
        "a_{n1} & a_{n2} & \\cdots & a_{nn}\\\\\n",
        "\\end{array}\n",
        "\\right]\n",
        "$$\n",
        "is to use the following formula called the cofactor formula.\n",
        "\n",
        "Pick either any $i\\ \\in \\{1,…,n\\}$ (fixed row) or $i\\ \\in \\{1,…,n\\}$ (fixed column). Then\n",
        "\n",
        "$$\\det(A)  = \\sum_{j=1}^n (-1)^{i+j}a_{ij} \\det(A(i∣j)) $$\n",
        "\n",
        "\n",
        "$C_{i,j}= (-1)^{i+j}a_{ij} \\det(A(i∣j))$ is called a cofactor of $A$.\n",
        "\n",
        "$$\\det(A)  = \\sum_{j=1}^n C_{i,j} $$\n",
        "\n"
      ],
      "metadata": {
        "id": "CgrSIpDOnaGQ"
      }
    },
    {
      "cell_type": "code",
      "source": [
        "# Code from https://stackoverflow.com/questions/16510111/computing-determinant-of-a-matrix-nxn-recursively\n",
        "\n",
        "import numpy as np\n",
        "\n",
        "def smaller_matrix(original_matrix,row, column):\n",
        "    for ii in range(len(original_matrix)):\n",
        "        new_matrix=np.delete(original_matrix,ii,0)\n",
        "        new_matrix=np.delete(new_matrix,column,1)\n",
        "        return new_matrix\n",
        "\n",
        "\n",
        "def determinant(matrix):\n",
        "    \"\"\"Returns a determinant of a matrix by recursive method.\"\"\"\n",
        "    (r,c) = matrix.shape\n",
        "    if r != c:\n",
        "        print(\"Error!Not a square matrix!\")\n",
        "        return None\n",
        "    elif r==2:\n",
        "        simple_determinant = matrix[0][0]*matrix[1][1]-matrix[0][1]*matrix[1][0]\n",
        "        return simple_determinant\n",
        "    else:\n",
        "        answer=0\n",
        "        for j in range(r):\n",
        "            cofactor = (-1)**(0+j) * matrix[0][j] * determinant(smaller_matrix(matrix, 0, j))\n",
        "            answer+= cofactor\n",
        "        return answer"
      ],
      "metadata": {
        "id": "J-joKRBhC7eF"
      },
      "execution_count": null,
      "outputs": []
    },
    {
      "cell_type": "code",
      "source": [
        "#test the function\n",
        "#Only works for numpy.array input\n",
        "np.random.seed(1)"
      ],
      "metadata": {
        "id": "Il2pcRD4DptG"
      },
      "execution_count": null,
      "outputs": []
    },
    {
      "cell_type": "code",
      "source": [
        "n = 2\n",
        "matrix=np.random.randint(-5,5,size=(n,n))\n",
        "matrix"
      ],
      "metadata": {
        "colab": {
          "base_uri": "https://localhost:8080/"
        },
        "id": "AgKC1-aiFRW2",
        "outputId": "4a6f1d49-038f-453b-e6dc-0c86d09ce50b"
      },
      "execution_count": null,
      "outputs": [
        {
          "output_type": "execute_result",
          "data": {
            "text/plain": [
              "array([[0, 3],\n",
              "       [4, 0]])"
            ]
          },
          "metadata": {},
          "execution_count": 36
        }
      ]
    },
    {
      "cell_type": "code",
      "source": [
        "determinant(matrix)"
      ],
      "metadata": {
        "colab": {
          "base_uri": "https://localhost:8080/"
        },
        "outputId": "b6848f7f-7ea2-4237-e7eb-b7c21e0ac442",
        "id": "oI0rUp-SDptH"
      },
      "execution_count": null,
      "outputs": [
        {
          "output_type": "execute_result",
          "data": {
            "text/plain": [
              "-12"
            ]
          },
          "metadata": {},
          "execution_count": 37
        }
      ]
    },
    {
      "cell_type": "code",
      "source": [
        "np.linalg.det(matrix)"
      ],
      "metadata": {
        "colab": {
          "base_uri": "https://localhost:8080/"
        },
        "id": "iqZv7iK-KKXH",
        "outputId": "1ce580f8-fe15-4968-f59a-dabafd461420"
      },
      "execution_count": null,
      "outputs": [
        {
          "output_type": "execute_result",
          "data": {
            "text/plain": [
              "-12.0"
            ]
          },
          "metadata": {},
          "execution_count": 38
        }
      ]
    },
    {
      "cell_type": "code",
      "source": [
        "round(np.linalg.det(matrix))"
      ],
      "metadata": {
        "colab": {
          "base_uri": "https://localhost:8080/"
        },
        "id": "sY21rHM-KdlO",
        "outputId": "936f670c-4c9a-4226-83f0-7cd0b00aab62"
      },
      "execution_count": null,
      "outputs": [
        {
          "output_type": "execute_result",
          "data": {
            "text/plain": [
              "-12"
            ]
          },
          "metadata": {},
          "execution_count": 39
        }
      ]
    },
    {
      "cell_type": "code",
      "source": [
        "n = 5\n",
        "matrix=np.diag(np.random.randint(-10,10,size=(n)))\n",
        "matrix"
      ],
      "metadata": {
        "colab": {
          "base_uri": "https://localhost:8080/"
        },
        "id": "-QXGZWFIDs5k",
        "outputId": "a9471c16-ad5e-46c5-aa7f-3d3f4729da9a"
      },
      "execution_count": null,
      "outputs": [
        {
          "output_type": "execute_result",
          "data": {
            "text/plain": [
              "array([[  5,   0,   0,   0,   0],\n",
              "       [  0, -10,   0,   0,   0],\n",
              "       [  0,   0,   6,   0,   0],\n",
              "       [  0,   0,   0,  -9,   0],\n",
              "       [  0,   0,   0,   0,   2]])"
            ]
          },
          "metadata": {},
          "execution_count": 40
        }
      ]
    },
    {
      "cell_type": "code",
      "source": [
        "determinant(matrix)"
      ],
      "metadata": {
        "colab": {
          "base_uri": "https://localhost:8080/"
        },
        "id": "VP6hRwhwD-3W",
        "outputId": "47d106b5-6e20-459a-99f0-e0268d68aa19"
      },
      "execution_count": null,
      "outputs": [
        {
          "output_type": "execute_result",
          "data": {
            "text/plain": [
              "5400"
            ]
          },
          "metadata": {},
          "execution_count": 41
        }
      ]
    },
    {
      "cell_type": "code",
      "source": [
        "np.linalg.det(matrix)"
      ],
      "metadata": {
        "colab": {
          "base_uri": "https://localhost:8080/"
        },
        "id": "8NV7Zvp-KtRz",
        "outputId": "bb51090a-5d60-4a58-af1e-bb0a32901155"
      },
      "execution_count": null,
      "outputs": [
        {
          "output_type": "execute_result",
          "data": {
            "text/plain": [
              "5400.000000000003"
            ]
          },
          "metadata": {},
          "execution_count": 42
        }
      ]
    },
    {
      "cell_type": "code",
      "source": [
        "round(np.linalg.det(matrix))"
      ],
      "metadata": {
        "colab": {
          "base_uri": "https://localhost:8080/"
        },
        "id": "HXKK3weLKt5T",
        "outputId": "6efd5722-21be-4bf9-aa80-bdb4018ded28"
      },
      "execution_count": null,
      "outputs": [
        {
          "output_type": "execute_result",
          "data": {
            "text/plain": [
              "5400"
            ]
          },
          "metadata": {},
          "execution_count": 43
        }
      ]
    },
    {
      "cell_type": "code",
      "source": [
        "# Modified from the previous code\n",
        "import numpy as np\n",
        "\n",
        "# A a squared numpy matrix\n",
        "def det(A):\n",
        "    \"\"\"Returns a determinant of a matrix by recursive method.\"\"\"\n",
        "    (r,c) = A.shape\n",
        "    if r != c:\n",
        "        print(\"Error!Not a square matrix!\")\n",
        "        return None\n",
        "    elif r==1:\n",
        "          # the code with  r==2 is more efficient but we use this\n",
        "         # because the number of operations is easier to compute\n",
        "        return A[0][0]\n",
        "    else:\n",
        "        answer=0\n",
        "        for j in range(r):\n",
        "            s = 1 if (0+j)%2 == 0 else -1\n",
        "            Aij = np.delete(A,0,0)\n",
        "            Aij = np.delete(Aij,j,1)\n",
        "            cofactor = (s) * A[0][j] * det(Aij)\n",
        "            answer+= cofactor\n",
        "        return answer"
      ],
      "metadata": {
        "id": "B258g8lnBgnG"
      },
      "execution_count": null,
      "outputs": []
    },
    {
      "cell_type": "code",
      "source": [
        "#test the function\n",
        "#Only works for numpy.array input\n",
        "np.random.seed(1)"
      ],
      "metadata": {
        "id": "ZR2mjlqiGdM6"
      },
      "execution_count": null,
      "outputs": []
    },
    {
      "cell_type": "code",
      "source": [
        "n = 2\n",
        "A=np.random.randint(-5,5,size=(n,n))\n",
        "A"
      ],
      "metadata": {
        "colab": {
          "base_uri": "https://localhost:8080/"
        },
        "outputId": "f8e053ef-6f63-4732-cc0e-68dd173676be",
        "id": "jPpBCFaoGlak"
      },
      "execution_count": null,
      "outputs": [
        {
          "output_type": "execute_result",
          "data": {
            "text/plain": [
              "array([[0, 3],\n",
              "       [4, 0]])"
            ]
          },
          "metadata": {},
          "execution_count": 46
        }
      ]
    },
    {
      "cell_type": "code",
      "source": [
        "det(A)"
      ],
      "metadata": {
        "colab": {
          "base_uri": "https://localhost:8080/"
        },
        "outputId": "ca2892d8-987e-427f-c947-73ffa892820f",
        "id": "WKbuirZeGlak"
      },
      "execution_count": null,
      "outputs": [
        {
          "output_type": "execute_result",
          "data": {
            "text/plain": [
              "-12"
            ]
          },
          "metadata": {},
          "execution_count": 47
        }
      ]
    },
    {
      "cell_type": "code",
      "source": [
        "determinant(A)"
      ],
      "metadata": {
        "colab": {
          "base_uri": "https://localhost:8080/"
        },
        "id": "_B5xBFirTvQm",
        "outputId": "18f99a50-c687-4086-c75c-25e231427da8"
      },
      "execution_count": null,
      "outputs": [
        {
          "output_type": "execute_result",
          "data": {
            "text/plain": [
              "-12"
            ]
          },
          "metadata": {},
          "execution_count": 48
        }
      ]
    },
    {
      "cell_type": "code",
      "source": [
        "np.linalg.det(A)"
      ],
      "metadata": {
        "colab": {
          "base_uri": "https://localhost:8080/"
        },
        "outputId": "0c754856-639e-4433-fb02-48ece86664a2",
        "id": "bRyF2dsFLbXC"
      },
      "execution_count": null,
      "outputs": [
        {
          "output_type": "execute_result",
          "data": {
            "text/plain": [
              "-12.0"
            ]
          },
          "metadata": {},
          "execution_count": 49
        }
      ]
    },
    {
      "cell_type": "code",
      "source": [
        "round(np.linalg.det(A))"
      ],
      "metadata": {
        "colab": {
          "base_uri": "https://localhost:8080/"
        },
        "outputId": "d4b925dd-0f97-4da6-8a9a-d369f459439b",
        "id": "sOe1w9FPLbXD"
      },
      "execution_count": null,
      "outputs": [
        {
          "output_type": "execute_result",
          "data": {
            "text/plain": [
              "-12"
            ]
          },
          "metadata": {},
          "execution_count": 50
        }
      ]
    },
    {
      "cell_type": "code",
      "source": [
        "n = 10\n",
        "\n",
        "A=np.random.randint(-10,10,size=(n,n))\n",
        "\n",
        "A"
      ],
      "metadata": {
        "colab": {
          "base_uri": "https://localhost:8080/"
        },
        "outputId": "46faaa6c-d029-4710-d49d-a2a6b1401ccd",
        "id": "jzFX1soHGlak"
      },
      "execution_count": null,
      "outputs": [
        {
          "output_type": "execute_result",
          "data": {
            "text/plain": [
              "array([[  5, -10,   6,  -9,   2,  -3,   3,  -4,   8,  -5],\n",
              "       [  8,   1,   0,   4,   8,  -6,  -1,   7, -10,   3],\n",
              "       [ -1,  -1,  -3,  -9, -10,   7,  -2,   3,   9,   5],\n",
              "       [  0,  -2,  -3,  -7,  -4,   7,  -7,  -6,   7,   1],\n",
              "       [  2,   6,   3,   9,  -1,   8,   5, -10,  -6,   5],\n",
              "       [ -8,  -3,  -2,  -1,  -7,  -3,  -6,  -5,   9,  -4],\n",
              "       [ -2, -10,  -8,   0,   5,   5,  -3,   9,   0,   4],\n",
              "       [-10,  -9,   7,   3,  -7, -10,   3,  -4,  -4,  -8],\n",
              "       [  2,   1,  -3,   3,  -2,   1,   2,   1,  -6,  -3],\n",
              "       [ -3,   3,  -6,   6,   8, -10,   3,   0,   7,  -3]])"
            ]
          },
          "metadata": {},
          "execution_count": 51
        }
      ]
    },
    {
      "cell_type": "code",
      "source": [
        "import time\n",
        "\n",
        "start_time = time.time()\n",
        "d = det(A)\n",
        "end_time = time.time()"
      ],
      "metadata": {
        "id": "I97qAqxGGlak"
      },
      "execution_count": null,
      "outputs": []
    },
    {
      "cell_type": "code",
      "source": [
        "print(\"det(A): \",d)\n",
        "print(\"time: \",end_time - start_time)"
      ],
      "metadata": {
        "colab": {
          "base_uri": "https://localhost:8080/"
        },
        "id": "s7Ud-gBiTD0n",
        "outputId": "d1cd119d-e170-46c8-c4ca-ebf432b6d376"
      },
      "execution_count": null,
      "outputs": [
        {
          "output_type": "stream",
          "name": "stdout",
          "text": [
            "det(A):  29129065307\n",
            "time:  77.39920783042908\n"
          ]
        }
      ]
    },
    {
      "cell_type": "code",
      "source": [
        "import time\n",
        "\n",
        "start_time = time.time()\n",
        "d = determinant(A)\n",
        "end_time = time.time()"
      ],
      "metadata": {
        "id": "kjLXFQOeTRd2"
      },
      "execution_count": null,
      "outputs": []
    },
    {
      "cell_type": "code",
      "source": [
        "print(\"determinant(A): \",d)\n",
        "print(\"time: \",end_time - start_time)"
      ],
      "metadata": {
        "colab": {
          "base_uri": "https://localhost:8080/"
        },
        "id": "_TQFWy4ZSiDZ",
        "outputId": "fe3e5383-1786-495a-f474-7ac4cddc5b14"
      },
      "execution_count": null,
      "outputs": [
        {
          "output_type": "stream",
          "name": "stdout",
          "text": [
            "determinant(A):  29129065307\n",
            "time:  35.02712106704712\n"
          ]
        }
      ]
    },
    {
      "cell_type": "code",
      "source": [
        "import time\n",
        "\n",
        "start_time = time.time()\n",
        "d = np.linalg.det(A)\n",
        "end_time = time.time()"
      ],
      "metadata": {
        "id": "jL23i77VT55-"
      },
      "execution_count": null,
      "outputs": []
    },
    {
      "cell_type": "code",
      "source": [
        "print(\"np.linalg.det(A): \",d)\n",
        "print(\"time: \",end_time - start_time)"
      ],
      "metadata": {
        "colab": {
          "base_uri": "https://localhost:8080/"
        },
        "id": "n94nx14VT5wn",
        "outputId": "80a0d002-e9ce-4c14-9604-7b82b86c070c"
      },
      "execution_count": null,
      "outputs": [
        {
          "output_type": "stream",
          "name": "stdout",
          "text": [
            "np.linalg.det(A):  29129065306.99992\n",
            "time:  0.0003056526184082031\n"
          ]
        }
      ]
    },
    {
      "cell_type": "markdown",
      "source": [
        "# Estimating the time by instruction in Python in a Colab machine"
      ],
      "metadata": {
        "id": "Ssedt2z56DNC"
      }
    },
    {
      "cell_type": "code",
      "source": [
        "import numpy as np\n",
        "\n",
        "n = 100\n",
        "\n",
        "A = np.ones((n,n))\n",
        "\n",
        "A"
      ],
      "metadata": {
        "colab": {
          "base_uri": "https://localhost:8080/"
        },
        "id": "1KhlyeNi4uwa",
        "outputId": "daf5a3d5-616d-4811-ef88-17061a45f56b"
      },
      "execution_count": null,
      "outputs": [
        {
          "output_type": "execute_result",
          "data": {
            "text/plain": [
              "array([[1., 1., 1., ..., 1., 1., 1.],\n",
              "       [1., 1., 1., ..., 1., 1., 1.],\n",
              "       [1., 1., 1., ..., 1., 1., 1.],\n",
              "       ...,\n",
              "       [1., 1., 1., ..., 1., 1., 1.],\n",
              "       [1., 1., 1., ..., 1., 1., 1.],\n",
              "       [1., 1., 1., ..., 1., 1., 1.]])"
            ]
          },
          "metadata": {},
          "execution_count": 7
        }
      ]
    },
    {
      "cell_type": "code",
      "source": [
        "B = np.ones((n,n))\n",
        "\n",
        "B"
      ],
      "metadata": {
        "colab": {
          "base_uri": "https://localhost:8080/"
        },
        "id": "RKtHO3UY5M87",
        "outputId": "b4dfe81d-11f8-482a-d2a3-dde69af54aa0"
      },
      "execution_count": null,
      "outputs": [
        {
          "output_type": "execute_result",
          "data": {
            "text/plain": [
              "array([[1., 1., 1., ..., 1., 1., 1.],\n",
              "       [1., 1., 1., ..., 1., 1., 1.],\n",
              "       [1., 1., 1., ..., 1., 1., 1.],\n",
              "       ...,\n",
              "       [1., 1., 1., ..., 1., 1., 1.],\n",
              "       [1., 1., 1., ..., 1., 1., 1.],\n",
              "       [1., 1., 1., ..., 1., 1., 1.]])"
            ]
          },
          "metadata": {},
          "execution_count": 8
        }
      ]
    },
    {
      "cell_type": "code",
      "source": [
        "import time\n",
        "\n",
        "C= np.zeros((n,n))\n",
        "\n",
        "start_time = time.time()\n",
        "for i in range(n):\n",
        "        for j in range(n):\n",
        "            C[i][j] = 0\n",
        "            for k in range(len(A[0])):\n",
        "                C[i][j] += A[i][k] * B[k][j]\n",
        "end_time = time.time()\n",
        "print(end_time - start_time)"
      ],
      "metadata": {
        "colab": {
          "base_uri": "https://localhost:8080/"
        },
        "id": "0UFSLi-F5P0a",
        "outputId": "991b45a0-9644-42b6-f6b0-6c2d89520013"
      },
      "execution_count": null,
      "outputs": [
        {
          "output_type": "stream",
          "name": "stdout",
          "text": [
            "1.1359033584594727\n"
          ]
        }
      ]
    },
    {
      "cell_type": "code",
      "source": [
        "C"
      ],
      "metadata": {
        "colab": {
          "base_uri": "https://localhost:8080/"
        },
        "id": "h9zr4Z9P61bs",
        "outputId": "a629f0aa-0932-4128-c44f-0731d91b4b34"
      },
      "execution_count": null,
      "outputs": [
        {
          "output_type": "execute_result",
          "data": {
            "text/plain": [
              "array([[100., 100., 100., ..., 100., 100., 100.],\n",
              "       [100., 100., 100., ..., 100., 100., 100.],\n",
              "       [100., 100., 100., ..., 100., 100., 100.],\n",
              "       ...,\n",
              "       [100., 100., 100., ..., 100., 100., 100.],\n",
              "       [100., 100., 100., ..., 100., 100., 100.],\n",
              "       [100., 100., 100., ..., 100., 100., 100.]])"
            ]
          },
          "metadata": {},
          "execution_count": 11
        }
      ]
    },
    {
      "cell_type": "code",
      "source": [
        "time_by_oper_python = (end_time - start_time)/(2*n**3 - n**2)\n",
        "\n",
        "time_by_oper_python"
      ],
      "metadata": {
        "colab": {
          "base_uri": "https://localhost:8080/"
        },
        "id": "iEhaMEK77Ko7",
        "outputId": "87d9f92b-7aa0-4bb2-a6f8-3eddb5a52300"
      },
      "execution_count": null,
      "outputs": [
        {
          "output_type": "execute_result",
          "data": {
            "text/plain": [
              "5.708057077685792e-07"
            ]
          },
          "metadata": {},
          "execution_count": 22
        }
      ]
    },
    {
      "cell_type": "code",
      "source": [
        "import time\n",
        "import numpy as np\n",
        "\n",
        "start_time = time.time()\n",
        "C = A@B\n",
        "end_time = time.time()\n",
        "print(end_time - start_time)"
      ],
      "metadata": {
        "colab": {
          "base_uri": "https://localhost:8080/"
        },
        "id": "TfGsw6UF9o-a",
        "outputId": "c3be2bd3-fb0a-44f4-ea5d-fc1061d743c7"
      },
      "execution_count": null,
      "outputs": [
        {
          "output_type": "stream",
          "name": "stdout",
          "text": [
            "0.001438140869140625\n"
          ]
        }
      ]
    },
    {
      "cell_type": "code",
      "source": [
        "C"
      ],
      "metadata": {
        "colab": {
          "base_uri": "https://localhost:8080/"
        },
        "id": "Q5MtZtVT93oQ",
        "outputId": "3d766f10-d8b4-4635-8f8f-ae6f74b713a9"
      },
      "execution_count": null,
      "outputs": [
        {
          "output_type": "execute_result",
          "data": {
            "text/plain": [
              "array([[100., 100., 100., ..., 100., 100., 100.],\n",
              "       [100., 100., 100., ..., 100., 100., 100.],\n",
              "       [100., 100., 100., ..., 100., 100., 100.],\n",
              "       ...,\n",
              "       [100., 100., 100., ..., 100., 100., 100.],\n",
              "       [100., 100., 100., ..., 100., 100., 100.],\n",
              "       [100., 100., 100., ..., 100., 100., 100.]])"
            ]
          },
          "metadata": {},
          "execution_count": 17
        }
      ]
    },
    {
      "cell_type": "code",
      "source": [
        "time_by_oper_numpy = (end_time - start_time)/(2*n**3 - n**2)\n",
        "\n",
        "time_by_oper_numpy"
      ],
      "metadata": {
        "colab": {
          "base_uri": "https://localhost:8080/"
        },
        "id": "DTVYQYxT-TsJ",
        "outputId": "161f7fd8-f393-4d62-ee3c-5091895c4b32"
      },
      "execution_count": null,
      "outputs": [
        {
          "output_type": "execute_result",
          "data": {
            "text/plain": [
              "7.226838538395101e-10"
            ]
          },
          "metadata": {},
          "execution_count": 25
        }
      ]
    },
    {
      "cell_type": "markdown",
      "source": [
        "# Time estimation for the digital computer computation of a 3 x 3 matrix determinant by cofactor expansion\n",
        "\n",
        "The number of operations $(+,-,*)$ perfomed  *det(A)* algorithm that calculates\n",
        "\n",
        "$$\\det(A)  = \\sum_{j=1}^n (-1)^{i+j}a_{ij} \\det(A(i∣j)) $$\n",
        "\n",
        "is given by\n",
        "\n",
        "$$\\begin{array}{lll}\n",
        "T(n) & =&  nT(n-1) + 5n , T(1) = 1\\\\\n",
        "\\end{array}\n",
        "$$\n",
        "\n",
        "$$\\begin{array}{lll}\n",
        "T(n) & =&  nT(n-1) + 5n\\\\\n",
        "     & =&  n[(n-1) T(n-2) + 5 (n-1) +10] + 5n  \\\\\n",
        "     & =&  n(n-1) T(n-2) + 5 n  (n-1) + 5n \\\\\n",
        "     & =&  n(n-1) [(n-2) T(n-3) + 5 (n-2)] + 5 n(n-1) + 5n\\\\\n",
        "     & = & n(n-1)(n-2) T(n-3) + 5n(n-1)(n-2)+  5 n  (n-1) + 5n \\\\\n",
        "     & \\vdots\\\\\n",
        "     & = &  n(n-1)(n-2)\\cdots (n -(n-2))  T(1) + [5n(n-1)(n-2)(n-3)\\cdots (n -(n-3))] + \\cdots + [5 n (n-1)]+ 5n \\\\\n",
        "    & = & n! + [5n(n-1)(n-2)(n-3)\\cdots 2] + [5n(n-1)(n-2)(n-3)\\cdots 3]+ \\cdots +[5 n (n-1) (n-3)] + [5 n (n-1)]+ 5n  \n",
        "\\end{array}\n",
        "$$\n",
        "\n",
        "$$T(n) = n! + 5 \\sum_{i=0}^{n-1} n!/i! = n! + 5 n!\\sum_{i=0}^{n-1} \\frac{1}{i!} < n! + 5 e n! < 16 n!  $$\n",
        "\n",
        "1. Asumming that an arithmetic operation takes the *time_by_oper_python* estimated before,  what is the maximun square matrix size for which the deteminant can be computed with cofactor extesion in $\\le$ 3 minute. Report the time at [LABCramer](https://docs.google.com/spreadsheets/d/1JNUbuj3QHcyPmp8i6kNreUFucj2mOvKHkCFHHy7zfws/edit?usp=sharing).\n",
        "\n",
        "2. Run an experiment with a random matrix of that size and report the time at [LABCramer](https://docs.google.com/spreadsheets/d/1JNUbuj3QHcyPmp8i6kNreUFucj2mOvKHkCFHHy7zfws/edit?usp=sharing).\n",
        "\n",
        "If the determinant of a $n \\times n$ square matrix takes $16 n!$ operations how much takes the Crammer solution of $n \\times n$ systems of linear equations?\n",
        "\n",
        "\n",
        "\n",
        "\n"
      ],
      "metadata": {
        "id": "PhAai3wzo_Tc"
      }
    },
    {
      "cell_type": "code",
      "source": [
        "import math\n",
        "\n",
        "def cofactor(n):\n",
        "    return math.factorial(n) + 5 * sum(math.factorial(n) // math.factorial(i) for i in range(n))\n",
        "\n",
        "time_by_oper_python = 5.708057077685792e-07\n",
        "\n",
        "tot = 3 * 60\n",
        "n = 1\n",
        "t = 0\n",
        "while t < tot:\n",
        "    t = cofactor(n) * time_by_oper_python\n",
        "    n += 1\n",
        "\n",
        "n-=1\n",
        "print(\"max size:\", n-1)\n",
        "print(\"time:\", cofactor(n-1) * time_by_oper_python)"
      ],
      "metadata": {
        "colab": {
          "base_uri": "https://localhost:8080/"
        },
        "id": "Uh7J6j0T2YIT",
        "outputId": "6f3fe12a-99bb-4479-a79c-e93bd707580d"
      },
      "execution_count": null,
      "outputs": [
        {
          "output_type": "stream",
          "name": "stdout",
          "text": [
            "max size: 10\n",
            "time: 30.223762662350833\n"
          ]
        }
      ]
    },
    {
      "cell_type": "code",
      "source": [
        "import numpy as np\n",
        "import math\n",
        "import time\n",
        "\n",
        "def det_n(matrix):\n",
        "    n = len(matrix)\n",
        "    if n == 1:\n",
        "        return matrix[0, 0]\n",
        "\n",
        "    det = 0\n",
        "    for j in range(n):\n",
        "        s = (-1)**j\n",
        "        sub = np.delete(matrix, 0, axis=0)\n",
        "        sub = np.delete(sub, j, axis=1)\n",
        "        det += s * matrix[0, j] * det_n(sub)\n",
        "\n",
        "    return det\n",
        "\n",
        "r_m = np.random.randint(1, 10, size=(10, 10))\n",
        "\n",
        "start_time = time.time()\n",
        "determinant = det_n(r_m)\n",
        "end_time = time.time()\n",
        "\n",
        "print(\"determinant:\", determinant)\n",
        "print(\"time:\", end_time - start_time)"
      ],
      "metadata": {
        "colab": {
          "base_uri": "https://localhost:8080/"
        },
        "id": "IpDe-FPh5Oii",
        "outputId": "45703091-3e42-4e16-c0a5-1fd7239992a5"
      },
      "execution_count": null,
      "outputs": [
        {
          "output_type": "stream",
          "name": "stdout",
          "text": [
            "determinant: 36766056\n",
            "time: 74.61743783950806\n"
          ]
        }
      ]
    },
    {
      "cell_type": "markdown",
      "source": [
        "# Time estimation for the human computer computation of a 3 x 3 matrix determinant by cofactor expansion\n",
        "\n",
        " Write a 3 x 3 matrix with the first element as your list number Mod 10 and the rest row by row 1,2,3,...9 skipimg the first element, by example if youir list number is 12, your list number Mod 10 is 2 and the matrix is\n",
        "$$A = \\left[\n",
        "  \\begin{array}{ccc}\n",
        "2 & 1 & 3\\\\\n",
        "4 & 5 & 6\\\\\n",
        "7 & 8 & 9\\\\\n",
        "\\end{array}\n",
        "\\right]\n",
        "$$\n",
        "Use a chronometer like http://online-stopwatch.chronme.com/ to estimate the time to compute the determinant by using the procedure in the follo wing exmaple (https://people.math.carleton.ca/~kcheung/math/notes/MATH1107/07/07_cofactor_expansion.html):<br />  \n",
        "Let\n",
        "$$A = \\begin{bmatrix} 10 & 2 & 3\\\\ 4 & 5 & 6\\\\ 7 & 8 & 9 \\end{bmatrix}$$\n",
        "we compute $\\det(A)$ by expanding along row $2$ as <br /> <br />\n",
        "$$\\begin{eqnarray} \\det(A) & = & (-1)^{2+1}A_{2,1}\\det(A(2 \\mid 1)) + (-1)^{2+2}A_{2,2}\\det(A(2 \\mid 2)) + (-1)^{2+3}A_{2,3}\\det(A(2 \\mid 3)) \\\\ & = & -10\\left|\\begin{matrix} 2 & 3 \\\\ 8 & 9\\end{matrix}\\right| + 5\\left|\\begin{matrix} 1 & 3 \\\\ 7 & 9\\end{matrix}\\right| - 6\\left|\\begin{matrix} 1 & 2 \\\\ 7 & 8\\end{matrix}\\right| \\\\ & = & -10(2\\cdot 9 - 3\\cdot 8) + 5(1 \\cdot 9- 3\\cdot 7) - 6(1\\cdot 8 - 2 \\cdot 7) \\\\ & = & 60 - 60 + 36 \\\\ & = & 36\\end{eqnarray}$$\n",
        "3. Report the time at [LABCramer](https://docs.google.com/spreadsheets/d/1JNUbuj3QHcyPmp8i6kNreUFucj2mOvKHkCFHHy7zfws/edit?usp=sharing)\n",
        "4. Report the value of the determinant at [LABCramer](https://docs.google.com/spreadsheets/d/1JNUbuj3QHcyPmp8i6kNreUFucj2mOvKHkCFHHy7zfws/edit?usp=sharing)\n"
      ],
      "metadata": {
        "id": "__brdhGadAXY"
      }
    },
    {
      "cell_type": "markdown",
      "source": [],
      "metadata": {
        "id": "9OyKLqgO9auL"
      }
    },
    {
      "cell_type": "markdown",
      "source": [
        "### My list number is 28 matrix:\n",
        "$$A = \\left[\n",
        "  \\begin{array}{ccc}\n",
        "8 & 1 & 2\\\\\n",
        "3 & 4 & 5\\\\\n",
        "6 & 7 & 9\\\\\n",
        "\\end{array}\n",
        "\\right]\n",
        "$$"
      ],
      "metadata": {
        "id": "mJ-Ig2kr6t5_"
      }
    },
    {
      "cell_type": "markdown",
      "source": [
        "\n",
        "\n",
        "![image.png](data:image/png;base64,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)"
      ],
      "metadata": {
        "id": "nF4N0YzS80As"
      }
    },
    {
      "cell_type": "markdown",
      "source": [
        "The determinant is 5\n"
      ],
      "metadata": {
        "id": "O_bPJDux7EDl"
      }
    }
  ]
}